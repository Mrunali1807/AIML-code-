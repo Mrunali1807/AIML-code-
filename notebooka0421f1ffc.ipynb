{
 "cells": [
  {
   "cell_type": "code",
   "execution_count": 1,
   "id": "1f5d1e1e",
   "metadata": {
    "_cell_guid": "75c12d20-583f-4d12-8fab-03fe8c1797f9",
    "_uuid": "e383b2b8-b499-433e-86ef-31959b7ebafc",
    "collapsed": false,
    "execution": {
     "iopub.execute_input": "2024-04-27T01:26:19.053471Z",
     "iopub.status.busy": "2024-04-27T01:26:19.052685Z",
     "iopub.status.idle": "2024-04-27T01:26:20.019414Z",
     "shell.execute_reply": "2024-04-27T01:26:20.017918Z"
    },
    "jupyter": {
     "outputs_hidden": false
    },
    "papermill": {
     "duration": 0.974786,
     "end_time": "2024-04-27T01:26:20.022095",
     "exception": false,
     "start_time": "2024-04-27T01:26:19.047309",
     "status": "completed"
    },
    "tags": []
   },
   "outputs": [
    {
     "name": "stdout",
     "output_type": "stream",
     "text": [
      "/kaggle/input/electra/electra_modbus.csv\n"
     ]
    }
   ],
   "source": [
    "# This Python 3 environment comes with many helpful analytics libraries installed\n",
    "# It is defined by the kaggle/python Docker image: https://github.com/kaggle/docker-python\n",
    "# For example, here's several helpful packages to load\n",
    "\n",
    "import numpy as np # linear algebra\n",
    "import pandas as pd # data processing, CSV file I/O (e.g. pd.read_csv)\n",
    "\n",
    "# Input data files are available in the read-only \"../input/\" directory\n",
    "# For example, running this (by clicking run or pressing Shift+Enter) will list all files under the input directory\n",
    "\n",
    "import os\n",
    "for dirname, _, filenames in os.walk('/kaggle/input'):\n",
    "    for filename in filenames:\n",
    "        print(os.path.join(dirname, filename))\n",
    "\n",
    "# You can write up to 20GB to the current directory (/kaggle/working/) that gets preserved as output when you create a version using \"Save & Run All\" \n",
    "# You can also write temporary files to /kaggle/temp/, but they won't be saved outside of the current session"
   ]
  },
  {
   "cell_type": "code",
   "execution_count": 2,
   "id": "73b4486e",
   "metadata": {
    "_cell_guid": "c19a4a37-59f8-476e-ab36-271578ad93e7",
    "_uuid": "f15a0708-910c-4845-afd0-3f98fd37ddf6",
    "collapsed": false,
    "execution": {
     "iopub.execute_input": "2024-04-27T01:26:20.030464Z",
     "iopub.status.busy": "2024-04-27T01:26:20.029879Z",
     "iopub.status.idle": "2024-04-27T01:26:54.749428Z",
     "shell.execute_reply": "2024-04-27T01:26:54.748057Z"
    },
    "jupyter": {
     "outputs_hidden": false
    },
    "papermill": {
     "duration": 34.727716,
     "end_time": "2024-04-27T01:26:54.753171",
     "exception": false,
     "start_time": "2024-04-27T01:26:20.025455",
     "status": "completed"
    },
    "tags": []
   },
   "outputs": [
    {
     "data": {
      "text/html": [
       "<div>\n",
       "<style scoped>\n",
       "    .dataframe tbody tr th:only-of-type {\n",
       "        vertical-align: middle;\n",
       "    }\n",
       "\n",
       "    .dataframe tbody tr th {\n",
       "        vertical-align: top;\n",
       "    }\n",
       "\n",
       "    .dataframe thead th {\n",
       "        text-align: right;\n",
       "    }\n",
       "</style>\n",
       "<table border=\"1\" class=\"dataframe\">\n",
       "  <thead>\n",
       "    <tr style=\"text-align: right;\">\n",
       "      <th></th>\n",
       "      <th>Time</th>\n",
       "      <th>smac</th>\n",
       "      <th>dmac</th>\n",
       "      <th>sip</th>\n",
       "      <th>dip</th>\n",
       "      <th>request</th>\n",
       "      <th>fc</th>\n",
       "      <th>error</th>\n",
       "      <th>address</th>\n",
       "      <th>data</th>\n",
       "      <th>label</th>\n",
       "    </tr>\n",
       "  </thead>\n",
       "  <tbody>\n",
       "    <tr>\n",
       "      <th>0</th>\n",
       "      <td>0</td>\n",
       "      <td>00:1b:1b:c1:41:1b</td>\n",
       "      <td>08:00:27:79:b0:4a</td>\n",
       "      <td>10.70.38.51</td>\n",
       "      <td>10.70.38.55</td>\n",
       "      <td>1</td>\n",
       "      <td>3</td>\n",
       "      <td>0</td>\n",
       "      <td>1</td>\n",
       "      <td>68</td>\n",
       "      <td>MITM_UNALTERED</td>\n",
       "    </tr>\n",
       "    <tr>\n",
       "      <th>1</th>\n",
       "      <td>2107</td>\n",
       "      <td>08:00:27:79:b0:4a</td>\n",
       "      <td>00:0e:8c:e1:dd:58</td>\n",
       "      <td>10.70.38.51</td>\n",
       "      <td>10.70.38.55</td>\n",
       "      <td>1</td>\n",
       "      <td>3</td>\n",
       "      <td>0</td>\n",
       "      <td>1</td>\n",
       "      <td>68</td>\n",
       "      <td>MITM_UNALTERED</td>\n",
       "    </tr>\n",
       "  </tbody>\n",
       "</table>\n",
       "</div>"
      ],
      "text/plain": [
       "   Time               smac               dmac          sip          dip  \\\n",
       "0     0  00:1b:1b:c1:41:1b  08:00:27:79:b0:4a  10.70.38.51  10.70.38.55   \n",
       "1  2107  08:00:27:79:b0:4a  00:0e:8c:e1:dd:58  10.70.38.51  10.70.38.55   \n",
       "\n",
       "   request  fc  error  address  data           label  \n",
       "0        1   3      0        1    68  MITM_UNALTERED  \n",
       "1        1   3      0        1    68  MITM_UNALTERED  "
      ]
     },
     "execution_count": 2,
     "metadata": {},
     "output_type": "execute_result"
    }
   ],
   "source": [
    "#Reading a database\n",
    "import pandas as pd\n",
    "df=pd.read_csv(\"/kaggle/input/electra/electra_modbus.csv\")\n",
    "df.head(2)"
   ]
  },
  {
   "cell_type": "code",
   "execution_count": 3,
   "id": "b376feec",
   "metadata": {
    "_cell_guid": "9a213f36-66a5-4492-99f6-5095e9bcae18",
    "_uuid": "8f50bfda-41bb-49c6-a63c-d4fd91b3eb4f",
    "collapsed": false,
    "execution": {
     "iopub.execute_input": "2024-04-27T01:26:54.761094Z",
     "iopub.status.busy": "2024-04-27T01:26:54.760727Z",
     "iopub.status.idle": "2024-04-27T01:26:54.789969Z",
     "shell.execute_reply": "2024-04-27T01:26:54.788600Z"
    },
    "jupyter": {
     "outputs_hidden": false
    },
    "papermill": {
     "duration": 0.036755,
     "end_time": "2024-04-27T01:26:54.793166",
     "exception": false,
     "start_time": "2024-04-27T01:26:54.756411",
     "status": "completed"
    },
    "tags": []
   },
   "outputs": [
    {
     "name": "stdout",
     "output_type": "stream",
     "text": [
      "<class 'pandas.core.frame.DataFrame'>\n",
      "RangeIndex: 16289277 entries, 0 to 16289276\n",
      "Data columns (total 11 columns):\n",
      " #   Column   Dtype \n",
      "---  ------   ----- \n",
      " 0   Time     int64 \n",
      " 1   smac     object\n",
      " 2   dmac     object\n",
      " 3   sip      object\n",
      " 4   dip      object\n",
      " 5   request  int64 \n",
      " 6   fc       int64 \n",
      " 7   error    int64 \n",
      " 8   address  int64 \n",
      " 9   data     int64 \n",
      " 10  label    object\n",
      "dtypes: int64(6), object(5)\n",
      "memory usage: 1.3+ GB\n"
     ]
    }
   ],
   "source": [
    "#Reading information about the feature and columns\n",
    "df.info()"
   ]
  },
  {
   "cell_type": "code",
   "execution_count": 4,
   "id": "e6b53090",
   "metadata": {
    "_cell_guid": "f7b1372b-a6b4-42bb-a1e9-ff136741509c",
    "_uuid": "b2a4d846-a245-465f-9e26-e07a4d3ea3d1",
    "collapsed": false,
    "execution": {
     "iopub.execute_input": "2024-04-27T01:26:54.804557Z",
     "iopub.status.busy": "2024-04-27T01:26:54.802752Z",
     "iopub.status.idle": "2024-04-27T01:26:58.640721Z",
     "shell.execute_reply": "2024-04-27T01:26:58.639069Z"
    },
    "jupyter": {
     "outputs_hidden": false
    },
    "papermill": {
     "duration": 3.845785,
     "end_time": "2024-04-27T01:26:58.643432",
     "exception": false,
     "start_time": "2024-04-27T01:26:54.797647",
     "status": "completed"
    },
    "tags": []
   },
   "outputs": [
    {
     "data": {
      "text/plain": [
       "Time       0\n",
       "smac       0\n",
       "dmac       0\n",
       "sip        0\n",
       "dip        0\n",
       "request    0\n",
       "fc         0\n",
       "error      0\n",
       "address    0\n",
       "data       0\n",
       "label      0\n",
       "dtype: int64"
      ]
     },
     "execution_count": 4,
     "metadata": {},
     "output_type": "execute_result"
    }
   ],
   "source": [
    "#Cleaning the dataset for null value\n",
    "df.isnull().sum()"
   ]
  },
  {
   "cell_type": "code",
   "execution_count": 5,
   "id": "93d60505",
   "metadata": {
    "_cell_guid": "941b8ec6-6055-4413-9d0b-8824a37ce648",
    "_uuid": "47b25900-6210-4061-8c3f-9753f491e649",
    "collapsed": false,
    "execution": {
     "iopub.execute_input": "2024-04-27T01:26:58.653455Z",
     "iopub.status.busy": "2024-04-27T01:26:58.653000Z",
     "iopub.status.idle": "2024-04-27T01:44:34.493861Z",
     "shell.execute_reply": "2024-04-27T01:44:34.491375Z"
    },
    "jupyter": {
     "outputs_hidden": false
    },
    "papermill": {
     "duration": 1055.850201,
     "end_time": "2024-04-27T01:44:34.497244",
     "exception": false,
     "start_time": "2024-04-27T01:26:58.647043",
     "status": "completed"
    },
    "tags": []
   },
   "outputs": [
    {
     "name": "stdout",
     "output_type": "stream",
     "text": [
      "Test Set Accuracy: 0.9999564130520194\n",
      "Classification Report:\n",
      "              precision    recall  f1-score   support\n",
      "\n",
      "           0       1.00      1.00      1.00       239\n",
      "           1       1.00      1.00      1.00    310573\n",
      "           2       1.00      1.00      1.00   2778501\n",
      "           3       1.00      1.00      1.00    157128\n",
      "           4       1.00      1.00      1.00      6040\n",
      "           5       0.96      0.82      0.88       193\n",
      "           6       1.00      0.97      0.98      3300\n",
      "           7       1.00      1.00      1.00      1882\n",
      "\n",
      "    accuracy                           1.00   3257856\n",
      "   macro avg       0.99      0.97      0.98   3257856\n",
      "weighted avg       1.00      1.00      1.00   3257856\n",
      "\n"
     ]
    }
   ],
   "source": [
    "import pandas as pd\n",
    "from sklearn.model_selection import train_test_split\n",
    "from sklearn.preprocessing import LabelEncoder\n",
    "from sklearn.ensemble import RandomForestClassifier\n",
    "from sklearn.metrics import accuracy_score, classification_report\n",
    "\n",
    "# Assuming your DataFrame is named 'df' and the target column is named 'attack_label'\n",
    "# Replace 'attack_label' with your actual target column name\n",
    "\n",
    "# Assuming the features are all string columns except the target column\n",
    "X = df.drop('label', axis=1)\n",
    "y = df['label']\n",
    "\n",
    "# One-hot encode the categorical features\n",
    "X = pd.get_dummies(X)\n",
    "\n",
    "# Encode the target labels\n",
    "le = LabelEncoder()\n",
    "y = le.fit_transform(y)\n",
    "\n",
    "# Split data into training and testing sets\n",
    "X_train, X_test, y_train, y_test = train_test_split(X, y, test_size=0.2, random_state=42)\n",
    "\n",
    "# Initialize RandomForestClassifier\n",
    "clf = RandomForestClassifier()\n",
    "\n",
    "# Train the model\n",
    "clf.fit(X_train, y_train)\n",
    "\n",
    "# Make predictions on the test set\n",
    "y_pred = clf.predict(X_test)\n",
    "\n",
    "# Evaluate the model\n",
    "test_score = accuracy_score(y_test, y_pred)\n",
    "print(\"Test Set Accuracy:\", test_score)\n",
    "\n",
    "# Print classification report\n",
    "print(\"Classification Report:\")\n",
    "print(classification_report(y_test, y_pred))"
   ]
  },
  {
   "cell_type": "code",
   "execution_count": 6,
   "id": "016a2c7e",
   "metadata": {
    "execution": {
     "iopub.execute_input": "2024-04-27T01:44:34.508447Z",
     "iopub.status.busy": "2024-04-27T01:44:34.507946Z",
     "iopub.status.idle": "2024-04-27T01:44:36.982138Z",
     "shell.execute_reply": "2024-04-27T01:44:36.981039Z"
    },
    "papermill": {
     "duration": 2.483604,
     "end_time": "2024-04-27T01:44:36.984801",
     "exception": false,
     "start_time": "2024-04-27T01:44:34.501197",
     "status": "completed"
    },
    "tags": []
   },
   "outputs": [
    {
     "name": "stdout",
     "output_type": "stream",
     "text": [
      "Summary Statistics for Anomaly Data:\n",
      "       Time  request   fc  error  address  data\n",
      "count   0.0      0.0  0.0    0.0      0.0   0.0\n",
      "mean    NaN      NaN  NaN    NaN      NaN   NaN\n",
      "std     NaN      NaN  NaN    NaN      NaN   NaN\n",
      "min     NaN      NaN  NaN    NaN      NaN   NaN\n",
      "25%     NaN      NaN  NaN    NaN      NaN   NaN\n",
      "50%     NaN      NaN  NaN    NaN      NaN   NaN\n",
      "75%     NaN      NaN  NaN    NaN      NaN   NaN\n",
      "max     NaN      NaN  NaN    NaN      NaN   NaN\n",
      "\n",
      "Summary Statistics for Normal Data:\n",
      "       Time  request   fc  error  address  data\n",
      "count   0.0      0.0  0.0    0.0      0.0   0.0\n",
      "mean    NaN      NaN  NaN    NaN      NaN   NaN\n",
      "std     NaN      NaN  NaN    NaN      NaN   NaN\n",
      "min     NaN      NaN  NaN    NaN      NaN   NaN\n",
      "25%     NaN      NaN  NaN    NaN      NaN   NaN\n",
      "50%     NaN      NaN  NaN    NaN      NaN   NaN\n",
      "75%     NaN      NaN  NaN    NaN      NaN   NaN\n",
      "max     NaN      NaN  NaN    NaN      NaN   NaN\n"
     ]
    }
   ],
   "source": [
    "import pandas as pd\n",
    "\n",
    "# Assuming your DataFrame is named 'df' and the target column is named 'label'\n",
    "# Replace 'label' with your actual target column name\n",
    "\n",
    "# Separate data into anomaly and normal DataFrames\n",
    "anomaly_df = df[df['label'] == 'anomaly']\n",
    "normal_df = df[df['label'] == 'normal']\n",
    "\n",
    "# Assuming you want to compare summary statistics of features\n",
    "anomaly_summary = anomaly_df.describe()\n",
    "normal_summary = normal_df.describe()\n",
    "\n",
    "# Print summary statistics for anomaly and normal data\n",
    "print(\"Summary Statistics for Anomaly Data:\")\n",
    "print(anomaly_summary)\n",
    "\n",
    "print(\"\\nSummary Statistics for Normal Data:\")\n",
    "print(normal_summary)\n"
   ]
  }
 ],
 "metadata": {
  "kaggle": {
   "accelerator": "none",
   "dataSources": [
    {
     "datasetId": 4881397,
     "sourceId": 8231137,
     "sourceType": "datasetVersion"
    }
   ],
   "dockerImageVersionId": 30698,
   "isGpuEnabled": false,
   "isInternetEnabled": false,
   "language": "python",
   "sourceType": "notebook"
  },
  "kernelspec": {
   "display_name": "Python 3",
   "language": "python",
   "name": "python3"
  },
  "language_info": {
   "codemirror_mode": {
    "name": "ipython",
    "version": 3
   },
   "file_extension": ".py",
   "mimetype": "text/x-python",
   "name": "python",
   "nbconvert_exporter": "python",
   "pygments_lexer": "ipython3",
   "version": "3.10.13"
  },
  "papermill": {
   "default_parameters": {},
   "duration": 1102.008987,
   "end_time": "2024-04-27T01:44:38.115043",
   "environment_variables": {},
   "exception": null,
   "input_path": "__notebook__.ipynb",
   "output_path": "__notebook__.ipynb",
   "parameters": {},
   "start_time": "2024-04-27T01:26:16.106056",
   "version": "2.5.0"
  }
 },
 "nbformat": 4,
 "nbformat_minor": 5
}
